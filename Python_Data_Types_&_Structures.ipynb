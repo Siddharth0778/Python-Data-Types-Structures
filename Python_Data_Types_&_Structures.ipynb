{
  "nbformat": 4,
  "nbformat_minor": 0,
  "metadata": {
    "colab": {
      "provenance": []
    },
    "kernelspec": {
      "name": "python3",
      "display_name": "Python 3"
    },
    "language_info": {
      "name": "python"
    }
  },
  "cells": [
    {
      "cell_type": "markdown",
      "source": [
        "# Python Data Types & Structures"
      ],
      "metadata": {
        "id": "pTsCodUpY5lu"
      }
    },
    {
      "cell_type": "markdown",
      "source": [
        "# Questions"
      ],
      "metadata": {
        "id": "fSqzxuT6ZXBe"
      }
    },
    {
      "cell_type": "markdown",
      "source": [
        "Q1. What are data structures, and why are they important?\n",
        "- Data structures are specialized formats for organizing, storing, and accessing collections of data. They provide efficient ways to manage information based on its characteristics and intended use.\n",
        "- Importance:\n",
        "  -  Choosing the right data structure significantly impacts the efficiency and performance of your program.\n",
        "  -  Well-chosen data structures can: Simplify data manipulation (adding, removing, modifying elements), Optimize searching and sorting operations, Conserve memory usage."
      ],
      "metadata": {
        "id": "g3ZN09pWXhYr"
      }
    },
    {
      "cell_type": "markdown",
      "source": [
        "Q2. Explain the difference between mutable and immutable data types with examples.\n",
        "- Mutable Data Types:\n",
        "  - These can be changed after creation.\n",
        "  - You can modify, add, or remove elements without creating a new object.\n",
        "  - Examples: list, dict, set\n",
        "-  Immutable Data Types;\n",
        "  - These cannot be changed after creation.\n",
        "  - Any operation that tries to change the value will create a new object.\n",
        "  - Examples: int, float, str, tuple, bool, frozenset"
      ],
      "metadata": {
        "id": "LcbheHLlZD7h"
      }
    },
    {
      "cell_type": "markdown",
      "source": [
        "Q3. What are the main differences between lists and tuples in Python?\n",
        "- Lists\n",
        "  - Description: Ordered, mutable collections of elements. Think of shopping lists or task lists. Lists can hold items of various data types (numbers, strings, even other lists!).\n",
        "  - Operations: You can add, remove, or modify elements within a list using indexing and slicing. Lists are versatile for storing and managing collections that might change.\n",
        "- Tuples:\n",
        "  - Description: Ordered, immutable collections of elements, similar to lists. However, once created, the items in a tuple cannot be changed. They provide a secure way to store data that shouldn't be modified.\n",
        "  - Operations: You can access elements using indexing and slicing, but you cannot modify the content. Tuples are useful for representing fixed datasets or configurations."
      ],
      "metadata": {
        "id": "QllpPRxMbJvF"
      }
    },
    {
      "cell_type": "markdown",
      "source": [
        "Q4. Describe how dictionaries store data.\n",
        "- Dictionaries store data as key-value pairs.\n",
        "- They use a hash table to allow very fast access to values by key.\n",
        "- Keys must be hashable (immutable types like strings, numbers, tuples).\n",
        "- Values can be any type."
      ],
      "metadata": {
        "id": "fdSxlYWMbdEF"
      }
    },
    {
      "cell_type": "markdown",
      "source": [
        "Q5. Why might you use a set instead of a list in Python?\n",
        "- You might use a set instead of a list when:\n",
        "  - You Want Only Unique Items\n",
        "  - You Need Fast Membership Checks\n",
        "  - You Want to Do Set Operations, such as union(), intersection(), difference()"
      ],
      "metadata": {
        "id": "olQykETxc70f"
      }
    },
    {
      "cell_type": "markdown",
      "source": [
        "Q6. What is a string in Python, and how is it different from a list?\n",
        "- A string is a sequence of characters - like letters, numbers, or symbols - enclosed in quotes.\n",
        "- Difference between strin & list:\n",
        "  - Data Type -\n",
        "    - String: Holds text (characters).\n",
        "    - List: Can hold anything — numbers, text, even other lists.\n",
        "  - Mutability -\n",
        "    - String: Cannot be changed (immutable).\n",
        "    - List: Can be changed (mutable).\n",
        "  - Syntax -\n",
        "    - String: Use quotes → 'Hello' or \"Hello\"\n",
        "    - List: Use square brackets → [1, 2, 3]\n",
        "  - Item Types -\n",
        "    - String: Only characters (like 'H', 'e', 'l', 'l', 'o')\n",
        "    - List: Can mix types (like [1, 'a', 3.5])\n",
        "  - Methods -\n",
        "    - String: Has text functions like .upper(), .lower(), .replace()\n",
        "    - List: Has list tools like .append(), .pop(), .sort()"
      ],
      "metadata": {
        "id": "lQo8pndvdhP5"
      }
    },
    {
      "cell_type": "markdown",
      "source": [
        "Q7. How do tuples ensure data integrity in Python?\n",
        "- Tuples ensure data integrity by:\n",
        "  - Being immutable (can’t change the contents)\n",
        "  - Being hashable (can be used in sets/dictionaries)\n",
        "  - Preventing accidental modifications"
      ],
      "metadata": {
        "id": "rmrUAr5hfpYw"
      }
    },
    {
      "cell_type": "markdown",
      "source": [
        "Q8. What is a hash table, and how does it relate to dictionaries in Python?\n",
        "- A hash table is a data structure that stores data in key-value pairs using a process called hashing.\n",
        "  - It uses a hash function to convert a key (like \"name\") into a number (called a hash).\n",
        "  - That number tells the table where to store or look for the value quickly.\n",
        "- In Python, dictionaries are built using hash tables for:\n",
        "  - Fast lookups (O(1) Time)\n",
        "  - Efficient updates\n",
        "  - Uniqueness of keys"
      ],
      "metadata": {
        "id": "Hcr2xfg9gnMA"
      }
    },
    {
      "cell_type": "markdown",
      "source": [
        "Q9. Can lists contain different data types in Python?\n",
        "- Python lists are flexible - they can hold items of any type, even all mixed together.\n",
        "- You can store complex records in one list.\n",
        "- It makes Python very dynamic and easy to use, especially for quick tasks or small programs."
      ],
      "metadata": {
        "id": "nXxVLNz_h5Nf"
      }
    },
    {
      "cell_type": "markdown",
      "source": [
        "Q10. Explain why strings are immutable in Python.\n",
        "- Strings are immutable to keep your data safe, efficient, and reliable.\n",
        "- You can create new strings, but you can't change them in place."
      ],
      "metadata": {
        "id": "8YwrIwF7iZa_"
      }
    },
    {
      "cell_type": "markdown",
      "source": [
        "Q11. What advantages do dictionaries offer over lists for certain tasks?\n",
        "- Dictionaries and lists are both useful, but dictionaries are better for certain tasks — especially when working with key-value data.\n",
        "  - Fast Lookups (O(1) Time)\n",
        "  - Meaningful Keys\n",
        "  - Flexible Data Mapping\n",
        "  - Avoid Duplicates in Keys"
      ],
      "metadata": {
        "id": "EE0vkN5biz5_"
      }
    },
    {
      "cell_type": "markdown",
      "source": [
        "Q12. Describe a scenario where using a tuple would be preferable over a list.\n",
        "- Use a tuple when you want to store a fixed set of values that should not change. Tuple offers follows:\n",
        "  - Fixed data\n",
        "  - Protects from accidental changes\n",
        "  - More efficient\n",
        "  - Hashable"
      ],
      "metadata": {
        "id": "eGryzyRgjrV_"
      }
    },
    {
      "cell_type": "markdown",
      "source": [
        "Q13.  How do sets handle duplicate values in Python?\n",
        "- Sets do not allow duplicates.\n",
        "- They automatically remove or ignore repeated values.\n",
        "- This makes sets great for tasks like:\n",
        "  - Finding unique items\n",
        "  - Removing duplicates from a list\n",
        "  - Membership testing (if item in set)"
      ],
      "metadata": {
        "id": "5hDgryig40tM"
      }
    },
    {
      "cell_type": "markdown",
      "source": [
        "Q14. How does the “in” keyword work differently for lists and dictionaries?\n",
        "- Lists:\n",
        "- In a list, in checks whether a value exists in the list.\n",
        "- It looks at the items inside the list.\n",
        "- Dictionaries:\n",
        "- In a dictionary, in checks whether a key exists - not the value.\n",
        "- To check for a value in a dictionary, you must use .values():"
      ],
      "metadata": {
        "id": "C-XinMp35nQ3"
      }
    },
    {
      "cell_type": "markdown",
      "source": [
        "Q15. Can you modify the elements of a tuple? Explain why or why not.\n",
        "- No, you cannot modify the elements of a tuple.\n",
        "- Because tuples are immutable — which means once a tuple is created, its contents cannot be changed.\n",
        "  - You can’t add, remove, or update items.\n",
        "  - Trying to do so will raise an error.\n",
        "- You can't change the tuple itself, but if the tuple contains a mutable object, you can change the contents of that object.\n",
        "- You can't change the tuple itself, but if the tuple contains a mutable object, you can change the contents of that object."
      ],
      "metadata": {
        "id": "kQsV966Y68AB"
      }
    },
    {
      "cell_type": "markdown",
      "source": [
        "Q16. What is a nested dictionary, and give an example of its use case?\n",
        "- A nested dictionary is a dictionary inside another dictionary.\n",
        "It lets you store hierarchical or grouped data - like records within records.\n",
        "- Use Cases:\n",
        "  - Storing product info in an online store (product_id → {name, price, stock})\n",
        "  - Representing JSON-like API data\n",
        "  - Tracking configuration settings in apps"
      ],
      "metadata": {
        "id": "b97Eg5ji73Ur"
      }
    },
    {
      "cell_type": "markdown",
      "source": [
        "Q17. Describe the time complexity of accessing elements in a dictionary.\n",
        "- In Python, accessing an element in a dictionary by key is: Average Case: O(1) (Constant Time)\n",
        "  - Python uses a hash table for dictionaries.\n",
        "  - The key is hashed, and Python uses that hash to directly locate the value.\n",
        "  - This makes lookup, insertion, and deletion very fast — on average, just one step."
      ],
      "metadata": {
        "id": "pjf7cY2Q8Yhw"
      }
    },
    {
      "cell_type": "markdown",
      "source": [
        "Q18. In what situations are lists preferred over dictionaries?\n",
        "- Lists are prefered when:\n",
        "  - You Need to Keep Order\n",
        "    - Lists remember the order of items (since Python 3.7+, so do dicts — but lists are still better for ordered sequences).\n",
        "    - Ideal for tasks like to-do lists, queues, menus, etc.\n",
        "  -  You Don't Need Key-Value Pairs\n",
        "    - Lists are best when you're storing just values, not labels or named fields.\n",
        "  - You Want to Store Duplicate Values\n",
        "    - Lists allow duplicates, dictionaries do not (keys must be unique).\n",
        "  - You Will Use Indexes to Access Data\n",
        "    - If you're working with data by position (e.g., item at index 0), lists are ideal.\n",
        "  - You Need a Simple Sequence\n",
        "    - When your data is just a simple collection, and you don’t need to label each item with a key."
      ],
      "metadata": {
        "id": "Z1dq0-pr_LE-"
      }
    },
    {
      "cell_type": "markdown",
      "source": [
        "Q19. Why are dictionaries considered unordered, and how does that affect data retrieval?\n",
        "- In older versions of Python (before 3.7), dictionaries were unordered, meaning:\n",
        "  - They didn’t remember the order in which key-value pairs were added.\n",
        "  - The order of items could change when the dictionary was modified.\n",
        "- Starting with Python 3.7, dictionaries preserve insertion order by default.\n",
        "- But even though the order is preserved, dictionaries are still considered unordered collections theoretically because:\n",
        "  - The main focus is on key-based access, not position.\n",
        "  - Dictionaries are optimized for fast lookups, not order."
      ],
      "metadata": {
        "id": "jqjCCWlmrmm-"
      }
    },
    {
      "cell_type": "markdown",
      "source": [
        "Q20. Explain the difference between a list and a dictionary in terms of data retrieval.\n",
        "- Use a list when:\n",
        "  - You care about the order or positions of items.\n",
        "  - You don’t need labeled data.\n",
        "- Use a dictionary when:\n",
        "  - You want to retrieve data by name, label, or ID (i.e., using keys).\n",
        "  - You want faster access to specific pieces of information."
      ],
      "metadata": {
        "id": "gJNebi7Brmjv"
      }
    },
    {
      "cell_type": "markdown",
      "source": [
        "# Practical Questions"
      ],
      "metadata": {
        "id": "7x8fT0CutvKw"
      }
    },
    {
      "cell_type": "markdown",
      "source": [
        "Q1. Write a code to create a string with your name and print it."
      ],
      "metadata": {
        "id": "CZa9oUYvt5jv"
      }
    },
    {
      "cell_type": "code",
      "source": [
        "name = \"Siddharth\"\n",
        "print(name)"
      ],
      "metadata": {
        "colab": {
          "base_uri": "https://localhost:8080/"
        },
        "id": "h8T5sMPnuIIx",
        "outputId": "d6e055ec-c26b-49d0-bb95-41d702d25a7f"
      },
      "execution_count": null,
      "outputs": [
        {
          "output_type": "stream",
          "name": "stdout",
          "text": [
            "Siddharth\n"
          ]
        }
      ]
    },
    {
      "cell_type": "markdown",
      "source": [
        "Q2. Write a code to find the length of the string \"Hello World\"."
      ],
      "metadata": {
        "id": "Qp8Qn-f3uhXP"
      }
    },
    {
      "cell_type": "code",
      "source": [
        "text = \"Hello World\"\n",
        "length = len(text)\n",
        "print(\"Length of string:\", length)"
      ],
      "metadata": {
        "colab": {
          "base_uri": "https://localhost:8080/"
        },
        "id": "saDwOYEduwdL",
        "outputId": "222bef66-147d-4587-d696-56217a4d40fc"
      },
      "execution_count": null,
      "outputs": [
        {
          "output_type": "stream",
          "name": "stdout",
          "text": [
            "Length of string: 11\n"
          ]
        }
      ]
    },
    {
      "cell_type": "markdown",
      "source": [
        "Q3. Write a code to slice the first 3 characters from the string \"Python Programming\"."
      ],
      "metadata": {
        "id": "oPFOMk3QvnTy"
      }
    },
    {
      "cell_type": "code",
      "source": [
        "text = \"Python Programming\"\n",
        "sliced_text = text[:3]\n",
        "print(\"First 3 characters:\", sliced_text)"
      ],
      "metadata": {
        "colab": {
          "base_uri": "https://localhost:8080/"
        },
        "id": "NBpTZfxgv5wC",
        "outputId": "b70bc1cc-89f4-4b4f-e2ec-3b659af0d8d7"
      },
      "execution_count": null,
      "outputs": [
        {
          "output_type": "stream",
          "name": "stdout",
          "text": [
            "First 3 characters: Pyt\n"
          ]
        }
      ]
    },
    {
      "cell_type": "markdown",
      "source": [
        "Q4. Write a code to convert the string \"hello\" to uppercase."
      ],
      "metadata": {
        "id": "GOdBAp4Bv9NR"
      }
    },
    {
      "cell_type": "code",
      "source": [
        "text = \"hello\"\n",
        "print(text.upper())"
      ],
      "metadata": {
        "colab": {
          "base_uri": "https://localhost:8080/"
        },
        "id": "mboZTtLuwIXq",
        "outputId": "8fc36326-9bbe-41e2-f7fa-841caf3691e7"
      },
      "execution_count": null,
      "outputs": [
        {
          "output_type": "stream",
          "name": "stdout",
          "text": [
            "HELLO\n"
          ]
        }
      ]
    },
    {
      "cell_type": "markdown",
      "source": [
        "Q5. Write a code to replace the word \"apple\" with \"orange\" in the string \"I like apple\"."
      ],
      "metadata": {
        "id": "CxjXD2fhxGZp"
      }
    },
    {
      "cell_type": "code",
      "source": [
        "text = \"I like apple\"\n",
        "new_text = text.replace(\"apple\", \"orange\")\n",
        "print(new_text)"
      ],
      "metadata": {
        "colab": {
          "base_uri": "https://localhost:8080/"
        },
        "id": "H9U79mW-xvnP",
        "outputId": "61571cd8-0406-40a9-c286-de9da7757e94"
      },
      "execution_count": null,
      "outputs": [
        {
          "output_type": "stream",
          "name": "stdout",
          "text": [
            "I like orange\n"
          ]
        }
      ]
    },
    {
      "cell_type": "markdown",
      "source": [
        "Q6. Write a code to create a list with numbers 1 to 5 and print it."
      ],
      "metadata": {
        "id": "jtKMq_dvyXuE"
      }
    },
    {
      "cell_type": "code",
      "source": [
        "my_list = [1, 2, 3, 4, 5]\n",
        "print(my_list)"
      ],
      "metadata": {
        "colab": {
          "base_uri": "https://localhost:8080/"
        },
        "id": "F8-F0Qi4ydAt",
        "outputId": "a47977f4-eb61-45de-e126-e64348a673b8"
      },
      "execution_count": null,
      "outputs": [
        {
          "output_type": "stream",
          "name": "stdout",
          "text": [
            "[1, 2, 3, 4, 5]\n"
          ]
        }
      ]
    },
    {
      "cell_type": "markdown",
      "source": [
        "Q7. Write a code to append the number 10 to the list [1, 2, 3, 4]."
      ],
      "metadata": {
        "id": "EyLFrUWYywhM"
      }
    },
    {
      "cell_type": "code",
      "source": [
        "my_list = [1, 2, 3, 4, 5]\n",
        "my_list.append(10)\n",
        "print(my_list)"
      ],
      "metadata": {
        "colab": {
          "base_uri": "https://localhost:8080/"
        },
        "id": "qQnPJm4-2I1u",
        "outputId": "0c4fafbd-6e44-4331-dc24-6029e62d18e9"
      },
      "execution_count": null,
      "outputs": [
        {
          "output_type": "stream",
          "name": "stdout",
          "text": [
            "[1, 2, 3, 4, 5, 10]\n"
          ]
        }
      ]
    },
    {
      "cell_type": "markdown",
      "source": [
        "Q8. Write a code to remove the number 3 from the list [1, 2, 3, 4, 5]."
      ],
      "metadata": {
        "id": "fyNTDmhG2WjL"
      }
    },
    {
      "cell_type": "code",
      "source": [
        "my_list = [1, 2, 3, 4, 5]\n",
        "my_list.pop(2)\n",
        "print(my_list)"
      ],
      "metadata": {
        "colab": {
          "base_uri": "https://localhost:8080/"
        },
        "id": "Mco4_NPG2c--",
        "outputId": "1608fa24-4c6b-4357-f0fc-8f097dc7b3da"
      },
      "execution_count": null,
      "outputs": [
        {
          "output_type": "stream",
          "name": "stdout",
          "text": [
            "[1, 2, 4, 5]\n"
          ]
        }
      ]
    },
    {
      "cell_type": "markdown",
      "source": [
        "Q9. Write a code to access the second element in the list ['a', 'b', 'c', 'd']."
      ],
      "metadata": {
        "id": "8DTtoj5D6eDm"
      }
    },
    {
      "cell_type": "code",
      "source": [
        "my_list = ['a', 'b', 'c', 'd']\n",
        "second_element = my_list[1]\n",
        "print(\"Second element:\", second_element)"
      ],
      "metadata": {
        "colab": {
          "base_uri": "https://localhost:8080/"
        },
        "id": "M7NWdldv6nNS",
        "outputId": "1d160f7f-50fe-4a22-8f8a-05d02a0cb1b8"
      },
      "execution_count": 18,
      "outputs": [
        {
          "output_type": "stream",
          "name": "stdout",
          "text": [
            "Second element: b\n"
          ]
        }
      ]
    },
    {
      "cell_type": "markdown",
      "source": [
        "Q10. Write a code to reverse the list [10, 20, 30, 40, 50]."
      ],
      "metadata": {
        "id": "ClhQqIuU65lp"
      }
    },
    {
      "cell_type": "code",
      "source": [
        "my_list = [10, 20, 30, 40, 50]\n",
        "reversed_list = my_list[::-1]\n",
        "print(\"Reversed list:\", reversed_list)"
      ],
      "metadata": {
        "colab": {
          "base_uri": "https://localhost:8080/"
        },
        "id": "aaymE8ZM69ng",
        "outputId": "4c54f1ac-a96d-4889-a368-9da7d1163a2f"
      },
      "execution_count": 19,
      "outputs": [
        {
          "output_type": "stream",
          "name": "stdout",
          "text": [
            "Reversed list: [50, 40, 30, 20, 10]\n"
          ]
        }
      ]
    },
    {
      "cell_type": "markdown",
      "source": [
        "Q11. Write a code to create a tuple with the elements 100, 200, 300 and print it."
      ],
      "metadata": {
        "id": "O4WSdlro7ENj"
      }
    },
    {
      "cell_type": "code",
      "source": [
        "my_tuple = (100, 200, 300)\n",
        "print(\"My tuple:\", my_tuple)"
      ],
      "metadata": {
        "colab": {
          "base_uri": "https://localhost:8080/"
        },
        "id": "j1gOZBPz7KE9",
        "outputId": "845c878f-1f28-4f35-95b3-db5b784b501a"
      },
      "execution_count": 20,
      "outputs": [
        {
          "output_type": "stream",
          "name": "stdout",
          "text": [
            "My tuple: (100, 200, 300)\n"
          ]
        }
      ]
    },
    {
      "cell_type": "markdown",
      "source": [
        "Q12. Write a code to access the second-to-last element of the tuple ('red', 'green', 'blue', 'yellow')."
      ],
      "metadata": {
        "id": "lkbvr6OQ7QCv"
      }
    },
    {
      "cell_type": "code",
      "source": [
        "my_tuple = ('red', 'green', 'blue', 'yellow')\n",
        "second_to_last = my_tuple[-2]\n",
        "print(\"Second-to-last element:\", second_to_last)"
      ],
      "metadata": {
        "id": "p0eWBkLc7XJd"
      },
      "execution_count": null,
      "outputs": []
    },
    {
      "cell_type": "markdown",
      "source": [
        "Q13. Write a code to find the minimum number in the tuple (10, 20, 5, 15)."
      ],
      "metadata": {
        "id": "ZeZSrm-I7eqy"
      }
    },
    {
      "cell_type": "code",
      "source": [
        "numbers = (10, 20, 5, 15)\n",
        "minimum = min(numbers)\n",
        "print(\"Minimum number:\", minimum)"
      ],
      "metadata": {
        "colab": {
          "base_uri": "https://localhost:8080/"
        },
        "id": "6Yc_Ogmm7lV2",
        "outputId": "5e8a0efc-2f06-4951-9ecc-0999e0ed8ded"
      },
      "execution_count": 21,
      "outputs": [
        {
          "output_type": "stream",
          "name": "stdout",
          "text": [
            "Minimum number: 5\n"
          ]
        }
      ]
    },
    {
      "cell_type": "markdown",
      "source": [
        "Q14. Write a code to find the index of the element \"cat\" in the tuple ('dog', 'cat', 'rabbit')."
      ],
      "metadata": {
        "id": "7OuJNyg77nQh"
      }
    },
    {
      "cell_type": "code",
      "source": [
        "animals = ('dog', 'cat', 'rabbit')\n",
        "index_of_cat = animals.index(\"cat\")\n",
        "print(\"Index of 'cat':\", index_of_cat)"
      ],
      "metadata": {
        "id": "PoT6S1kT7uEf"
      },
      "execution_count": null,
      "outputs": []
    },
    {
      "cell_type": "markdown",
      "source": [
        "Q15. Write a code to create a tuple containing three different fruits and check if \"kiwi\" is in it."
      ],
      "metadata": {
        "id": "6M3Drv5V7vMX"
      }
    },
    {
      "cell_type": "code",
      "source": [
        "fruits = (\"apple\", \"banana\", \"mango\")\n",
        "\n",
        "if \"kiwi\" in fruits:\n",
        "    print(\"Kiwi is in the tuple.\")\n",
        "else:\n",
        "    print(\"Kiwi is not in the tuple.\")"
      ],
      "metadata": {
        "id": "FWfu5Eul71op"
      },
      "execution_count": null,
      "outputs": []
    },
    {
      "cell_type": "markdown",
      "source": [
        "Q16. Write a code to create a set with the elements 'a', 'b', 'c' and print it."
      ],
      "metadata": {
        "id": "YTa57fmc8Acn"
      }
    },
    {
      "cell_type": "code",
      "source": [
        "my_set = {'a', 'b', 'c'}\n",
        "print(\"My set:\", my_set)"
      ],
      "metadata": {
        "colab": {
          "base_uri": "https://localhost:8080/"
        },
        "id": "FX1fyjlL8G1P",
        "outputId": "9f3d31a5-f7d6-45f1-e4e5-2c02c0b882fe"
      },
      "execution_count": 23,
      "outputs": [
        {
          "output_type": "stream",
          "name": "stdout",
          "text": [
            "My set: {'b', 'c', 'a'}\n"
          ]
        }
      ]
    },
    {
      "cell_type": "markdown",
      "source": [
        "Q17. Write a code to clear all elements from the set {1, 2, 3, 4, 5}."
      ],
      "metadata": {
        "id": "3WK6vTun8H3H"
      }
    },
    {
      "cell_type": "code",
      "source": [
        "my_set = {1, 2, 3, 4, 5}\n",
        "my_set.clear()\n",
        "print(\"Cleared set:\", my_set)"
      ],
      "metadata": {
        "colab": {
          "base_uri": "https://localhost:8080/"
        },
        "id": "DA15XQEv8PNN",
        "outputId": "21f6da26-547e-44b5-d5c9-4b38bb90d7c1"
      },
      "execution_count": 22,
      "outputs": [
        {
          "output_type": "stream",
          "name": "stdout",
          "text": [
            "Cleared set: set()\n"
          ]
        }
      ]
    },
    {
      "cell_type": "markdown",
      "source": [
        "Q18. Write a code to remove the element 4 from the set {1, 2, 3, 4}."
      ],
      "metadata": {
        "id": "aHWeMz5y8UD6"
      }
    },
    {
      "cell_type": "code",
      "source": [
        "my_set = {1, 2, 3, 4}\n",
        "my_set.remove(4)\n",
        "print(\"Updated set:\", my_set)"
      ],
      "metadata": {
        "colab": {
          "base_uri": "https://localhost:8080/"
        },
        "id": "dCXjNUkL8axX",
        "outputId": "5613c3dd-1385-47f7-8fd9-99d3b0cf3106"
      },
      "execution_count": 24,
      "outputs": [
        {
          "output_type": "stream",
          "name": "stdout",
          "text": [
            "Updated set: {1, 2, 3}\n"
          ]
        }
      ]
    },
    {
      "cell_type": "markdown",
      "source": [
        "Q19. Write a code to find the union of two sets {1, 2, 3} and {3, 4, 5}."
      ],
      "metadata": {
        "id": "QvK5UUuy8iL4"
      }
    },
    {
      "cell_type": "code",
      "source": [
        "set1 = {1, 2, 3}\n",
        "set2 = {3, 4, 5}\n",
        "\n",
        "union_set = set1.union(set2)\n",
        "print(\"Union of sets:\", union_set)"
      ],
      "metadata": {
        "colab": {
          "base_uri": "https://localhost:8080/"
        },
        "id": "6Lsm-yBl8rCU",
        "outputId": "3d9a7add-5ea5-4a4f-80e2-4d4fa2c526a9"
      },
      "execution_count": 25,
      "outputs": [
        {
          "output_type": "stream",
          "name": "stdout",
          "text": [
            "Union of sets: {1, 2, 3, 4, 5}\n"
          ]
        }
      ]
    },
    {
      "cell_type": "markdown",
      "source": [
        "Q20. Write a code to find the intersection of two sets {1, 2, 3} and {2, 3, 4}."
      ],
      "metadata": {
        "id": "TAjA45Nf8uZM"
      }
    },
    {
      "cell_type": "code",
      "source": [
        "set1 = {1, 2, 3}\n",
        "set2 = {2, 3, 4}\n",
        "\n",
        "intersection_set = set1.intersection(set2)\n",
        "print(\"Intersection of sets:\", intersection_set)"
      ],
      "metadata": {
        "colab": {
          "base_uri": "https://localhost:8080/"
        },
        "id": "nmhD2LzD8zv6",
        "outputId": "62f84f4d-2d02-42da-e165-f624df06b676"
      },
      "execution_count": 26,
      "outputs": [
        {
          "output_type": "stream",
          "name": "stdout",
          "text": [
            "Intersection of sets: {2, 3}\n"
          ]
        }
      ]
    },
    {
      "cell_type": "markdown",
      "source": [
        "Q21. Write a code to create a dictionary with the keys \"name\", \"age\", and \"city\", and print it."
      ],
      "metadata": {
        "id": "Qf9IQFGo87JY"
      }
    },
    {
      "cell_type": "code",
      "source": [
        "person = {\n",
        "    \"name\": \"Alice\",\n",
        "    \"age\": 25,\n",
        "    \"city\": \"Mumbai\"\n",
        "}\n",
        "\n",
        "print(\"Person dictionary:\", person)"
      ],
      "metadata": {
        "colab": {
          "base_uri": "https://localhost:8080/"
        },
        "id": "jZZuDFDu9AOK",
        "outputId": "786cd38a-9613-46c3-dacb-5562a9a9abf7"
      },
      "execution_count": 27,
      "outputs": [
        {
          "output_type": "stream",
          "name": "stdout",
          "text": [
            "Person dictionary: {'name': 'Alice', 'age': 25, 'city': 'Mumbai'}\n"
          ]
        }
      ]
    },
    {
      "cell_type": "markdown",
      "source": [
        "Q22. Write a code to add a new key-value pair \"country\": \"USA\" to the dictionary {'name': 'John', 'age': 25}."
      ],
      "metadata": {
        "id": "mnDlCfU89HtU"
      }
    },
    {
      "cell_type": "code",
      "source": [
        "person = {'name': 'John', 'age': 25}\n",
        "person[\"country\"] = \"USA\"\n",
        "print(person)"
      ],
      "metadata": {
        "colab": {
          "base_uri": "https://localhost:8080/"
        },
        "id": "-3YY69cb9VXn",
        "outputId": "634c9cba-6be6-4434-fa84-4451421f34b6"
      },
      "execution_count": 28,
      "outputs": [
        {
          "output_type": "stream",
          "name": "stdout",
          "text": [
            "{'name': 'John', 'age': 25, 'country': 'USA'}\n"
          ]
        }
      ]
    },
    {
      "cell_type": "markdown",
      "source": [
        "Q23. Write a code to access the value associated with the key \"name\" in the dictionary {'name': 'Alice', 'age': 30}."
      ],
      "metadata": {
        "id": "oClNiMXL9yG4"
      }
    },
    {
      "cell_type": "code",
      "source": [
        "person = {'name': 'Alice', 'age': 30}\n",
        "name_value = person[\"name\"]\n",
        "print(\"Name:\", name_value)"
      ],
      "metadata": {
        "colab": {
          "base_uri": "https://localhost:8080/"
        },
        "id": "EUxS5Kcb93oQ",
        "outputId": "61fc3517-c662-430d-a0b4-4e7560e0107a"
      },
      "execution_count": 30,
      "outputs": [
        {
          "output_type": "stream",
          "name": "stdout",
          "text": [
            "Name: Alice\n"
          ]
        }
      ]
    },
    {
      "cell_type": "markdown",
      "source": [
        "Q24. Write a code to remove the key \"age\" from the dictionary {'name': 'Bob', 'age': 22, 'city': 'New York'}."
      ],
      "metadata": {
        "id": "UH7rFzKP-EBH"
      }
    },
    {
      "cell_type": "code",
      "source": [
        "person = {'name': 'Bob', 'age': 22, 'city': 'New York'}\n",
        "person.pop(\"age\")\n",
        "print(person)"
      ],
      "metadata": {
        "colab": {
          "base_uri": "https://localhost:8080/"
        },
        "id": "6IVGRWl6-M5H",
        "outputId": "cdd86558-d4a9-4182-9bb1-5704f9059bc0"
      },
      "execution_count": 29,
      "outputs": [
        {
          "output_type": "stream",
          "name": "stdout",
          "text": [
            "{'name': 'Bob', 'city': 'New York'}\n"
          ]
        }
      ]
    },
    {
      "cell_type": "markdown",
      "source": [
        "Q25. Write a code to check if the key \"city\" exists in the dictionary {'name': 'Alice', 'city': 'Paris'}."
      ],
      "metadata": {
        "id": "-dZTzr2B-rp_"
      }
    },
    {
      "cell_type": "code",
      "source": [
        "person = {'name': 'Alice', 'city': 'Paris'}\n",
        "\n",
        "if \"city\" in person:\n",
        "    print(\"Key 'city' exists.\")\n",
        "else:\n",
        "    print(\"Key 'city' does not exist.\")"
      ],
      "metadata": {
        "colab": {
          "base_uri": "https://localhost:8080/"
        },
        "id": "244anz_f-9s5",
        "outputId": "590ec2bd-868f-493b-f6d5-e0ac89d8a05b"
      },
      "execution_count": 32,
      "outputs": [
        {
          "output_type": "stream",
          "name": "stdout",
          "text": [
            "Key 'city' exists.\n"
          ]
        }
      ]
    },
    {
      "cell_type": "markdown",
      "source": [
        "Q26. Write a code to create a list, a tuple, and a dictionary, and print them all."
      ],
      "metadata": {
        "id": "EwxA5CJr_U4e"
      }
    },
    {
      "cell_type": "code",
      "source": [
        "my_list = [1, 2, 3, 4]\n",
        "\n",
        "my_tuple = ('apple', 'banana', 'cherry')\n",
        "\n",
        "my_dict = {'name': 'John', 'age': 25}\n",
        "\n",
        "print(\"List:\", my_list)\n",
        "print(\"Tuple:\", my_tuple)\n",
        "print(\"Dictionary:\", my_dict)\n"
      ],
      "metadata": {
        "colab": {
          "base_uri": "https://localhost:8080/"
        },
        "id": "-bUaPhSJ_rUn",
        "outputId": "f8f68879-e843-416b-d7f8-cf8e21b127e2"
      },
      "execution_count": 31,
      "outputs": [
        {
          "output_type": "stream",
          "name": "stdout",
          "text": [
            "List: [1, 2, 3, 4]\n",
            "Tuple: ('apple', 'banana', 'cherry')\n",
            "Dictionary: {'name': 'John', 'age': 25}\n"
          ]
        }
      ]
    },
    {
      "cell_type": "markdown",
      "source": [
        "Q27. Write a code to create a list of 5 random numbers between 1 and 100, sort it in ascending order, and print the\n",
        "result.(replaced)"
      ],
      "metadata": {
        "id": "XmeqWP_y_3rJ"
      }
    },
    {
      "cell_type": "code",
      "source": [
        "import random\n",
        "\n",
        "random_numbers = [random.randint(1, 100) for _ in range(5)]\n",
        "\n",
        "random_numbers.sort()\n",
        "\n",
        "print(\"Sorted random numbers:\", random_numbers)"
      ],
      "metadata": {
        "colab": {
          "base_uri": "https://localhost:8080/"
        },
        "id": "ijWAzJBbBOUr",
        "outputId": "6cba7b13-3f7e-4bc7-9134-26876574eaaf"
      },
      "execution_count": 36,
      "outputs": [
        {
          "output_type": "stream",
          "name": "stdout",
          "text": [
            "Sorted random numbers: [5, 7, 37, 64, 79]\n"
          ]
        }
      ]
    },
    {
      "cell_type": "markdown",
      "source": [
        "Q28. Write a code to create a list with strings and print the element at the third index."
      ],
      "metadata": {
        "id": "mz2wEbV7BVo2"
      }
    },
    {
      "cell_type": "code",
      "source": [
        "words = [\"apple\", \"banana\", \"cherry\", \"date\", \"elderberry\"]\n",
        "\n",
        "print(\"Element at index 3:\", words[3])\n"
      ],
      "metadata": {
        "colab": {
          "base_uri": "https://localhost:8080/"
        },
        "id": "BN-uO8OXCkD3",
        "outputId": "69b31839-1190-42a6-a0ce-aa1a55ee5f80"
      },
      "execution_count": 37,
      "outputs": [
        {
          "output_type": "stream",
          "name": "stdout",
          "text": [
            "Element at index 3: date\n"
          ]
        }
      ]
    },
    {
      "cell_type": "markdown",
      "source": [
        "Q29. Write a code to combine two dictionaries into one and print the result."
      ],
      "metadata": {
        "id": "okbteKVvBaaY"
      }
    },
    {
      "cell_type": "code",
      "source": [
        "dict1 = {'a': 1, 'b': 2}\n",
        "dict2 = {'c': 3, 'd': 4}\n",
        "\n",
        "combined_dict = {**dict1, **dict2}\n",
        "\n",
        "print(\"Combined dictionary:\", combined_dict)"
      ],
      "metadata": {
        "colab": {
          "base_uri": "https://localhost:8080/"
        },
        "id": "pCQhoK1UCw6q",
        "outputId": "b9723789-6ca9-4830-a9ad-a38f10ea4df5"
      },
      "execution_count": 38,
      "outputs": [
        {
          "output_type": "stream",
          "name": "stdout",
          "text": [
            "Combined dictionary: {'a': 1, 'b': 2, 'c': 3, 'd': 4}\n"
          ]
        }
      ]
    },
    {
      "cell_type": "markdown",
      "source": [
        "Q30. Write a code to convert a list of strings into a set."
      ],
      "metadata": {
        "id": "76qnyUFmDK3W"
      }
    },
    {
      "cell_type": "code",
      "source": [
        "string_list = [\"apple\", \"banana\", \"cherry\", \"apple\", \"banana\"]\n",
        "\n",
        "string_set = set(string_list)\n",
        "\n",
        "print(\"Set of strings:\", string_set)"
      ],
      "metadata": {
        "colab": {
          "base_uri": "https://localhost:8080/"
        },
        "id": "llG1AIv8DdL2",
        "outputId": "c2ba7dd0-a4f0-4101-8c77-47c1950dd0b1"
      },
      "execution_count": 39,
      "outputs": [
        {
          "output_type": "stream",
          "name": "stdout",
          "text": [
            "Set of strings: {'cherry', 'apple', 'banana'}\n"
          ]
        }
      ]
    }
  ]
}